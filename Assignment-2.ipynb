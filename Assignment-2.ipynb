{
 "cells": [
  {
   "cell_type": "code",
   "execution_count": 6,
   "id": "1b0b99a7-5490-486d-a114-1111ac4bc6fe",
   "metadata": {},
   "outputs": [
    {
     "name": "stdin",
     "output_type": "stream",
     "text": [
      "Enter your marks 91\n"
     ]
    },
    {
     "name": "stdout",
     "output_type": "stream",
     "text": [
      "You got A grade\n"
     ]
    }
   ],
   "source": [
    "#Solution for question-----1\n",
    "marks = int(input(\"Enter your marks\"))\n",
    "\n",
    "if marks > 90:\n",
    "    print(\"You got A grade\")\n",
    "elif marks <=90 and marks > 80:\n",
    "    print(\"You got B grade\") \n",
    "elif marks <=80 and marks >= 60:\n",
    "    print(\"You got C grade\") \n",
    "else:\n",
    "    print(\"You got D grade\")"
   ]
  },
  {
   "cell_type": "code",
   "execution_count": 16,
   "id": "20156d8f-8a6b-4993-a8c9-acfde35edfb9",
   "metadata": {},
   "outputs": [
    {
     "name": "stdin",
     "output_type": "stream",
     "text": [
      "Enter the cost price of your bike 100001\n"
     ]
    },
    {
     "name": "stdout",
     "output_type": "stream",
     "text": [
      "The final amount to be paid by you as tax is 15000.15\n"
     ]
    }
   ],
   "source": [
    "#Solution for question------2\n",
    "bikePrice = int(input(\"Enter the cost price of your bike\"))\n",
    "tax = 0\n",
    "\n",
    "if bikePrice > 100000:\n",
    "    tax = bikePrice*15/100\n",
    "elif bikePrice<=100000 and bikePrice>50000:\n",
    "    tax = bikePrice*10/100\n",
    "else:\n",
    "    tax = bikePrice*5/100\n",
    "print(\"The final amount to be paid by you as tax is\",tax)    "
   ]
  },
  {
   "cell_type": "code",
   "execution_count": 27,
   "id": "ad2beffd-3f63-4016-abc7-252ee51b0957",
   "metadata": {},
   "outputs": [
    {
     "name": "stdin",
     "output_type": "stream",
     "text": [
      "Type the city you want to visit we will tell you the specific monument of that city aMriTsar\n"
     ]
    },
    {
     "name": "stdout",
     "output_type": "stream",
     "text": [
      "We have no city named as Amritsar in our records\n"
     ]
    }
   ],
   "source": [
    "#Solution for question-----3\n",
    "city = input(\"Type the city you want to visit we will tell you the specific monument of that city\")\n",
    "\n",
    "city = city.capitalize()\n",
    "\n",
    "if city == \"Delhi\":\n",
    "    print(\"You can visit Red Fort\")\n",
    "elif city == \"Agra\":\n",
    "    print(\"You can visit Taj Mahal\")\n",
    "elif city == \"Jaipur\":\n",
    "    print(\"You can visit Jal Mahal\")\n",
    "else:\n",
    "    print(\"We have no city named as \" + city + \" in our records\")"
   ]
  },
  {
   "cell_type": "code",
   "execution_count": null,
   "id": "f0b05fb0-2940-4d31-b1d3-5ca43334a445",
   "metadata": {},
   "outputs": [],
   "source": [
    "#Solution for question-----4\n",
    "number = int(input(\"Enter the number you want to check\"))\n",
    "k=0\n",
    "\n",
    "while number>10:\n",
    "    number = number/3\n",
    "    k = k+1\n",
    "print(k)"
   ]
  },
  {
   "cell_type": "code",
   "execution_count": null,
   "id": "ebde94be-d279-4bc7-af8e-e4e903345166",
   "metadata": {},
   "outputs": [],
   "source": [
    "# A while loop is executed until a certain condition is true or false in nature\n",
    "#Solution for question-----5\n",
    "i = 0\n",
    "while i < 5:\n",
    "    print(i)\n",
    "    i += 1\n",
    "'''In this example, the while loop will execute as long as the value of i is less than 5.\n",
    "The loop variable i is initialized to 0, and is incremented by 1 after each iteration.\n",
    "The loop will stop when the value of i becomes equal to 5. '''\n",
    "\n",
    "'''The major application of using while loop is , it can be more flexible and powerful when you need to\n",
    "iterate over a sequence of values that depends on a changing condition.\n",
    "For example, you can use a while loop to iterate through a list, read data from a file until the end of file is \n",
    "reached, or wait for user input until a specific key is pressed.\n",
    "Here's an example of using a while loop to iterate through a list:\n",
    "'''\n",
    "print(\"\\n \\n \\n Another example \\n\")\n",
    "my_list = [1, 2, 3, 4, 5]\n",
    "i = 0\n",
    "\n",
    "while i < len(my_list):\n",
    "    print(my_list[i])\n",
    "    i += 1\n",
    "\n",
    "#In this example, the while loop iterates through the my_list variable and prints out each element on a new line. \n",
    "#The loop condition i < len(my_list) is evaluated before each iteration of the loop, and the loop variable i is \n",
    "#incremented by 1 after each iteration. The loop will continue until i is equal to the length of my_list.'''"
   ]
  },
  {
   "cell_type": "code",
   "execution_count": 53,
   "id": "67fb5ce2-6148-430f-a3e6-c0ee78d8e6ad",
   "metadata": {},
   "outputs": [
    {
     "name": "stdin",
     "output_type": "stream",
     "text": [
      "Enter the number of rows you want to input 10\n"
     ]
    },
    {
     "name": "stdout",
     "output_type": "stream",
     "text": [
      "* * * * * * * * * * * * * * * * * * *  \n",
      "  * * * * * * * * * * * * * * * * *  \n",
      "    * * * * * * * * * * * * * * *  \n",
      "      * * * * * * * * * * * * *  \n",
      "        * * * * * * * * * * *  \n",
      "          * * * * * * * * *  \n",
      "            * * * * * * *  \n",
      "              * * * * *  \n",
      "                * * *  \n",
      "                  *  \n",
      "                    "
     ]
    }
   ],
   "source": [
    "#First pattern of nested while loops\n",
    "#Solution for question-----6\n",
    "rows = int(input(\"Enter the number of rows you want to input\"))\n",
    "k = rows*2-1\n",
    "i = 0\n",
    "\n",
    "while i<rows:\n",
    "    j = 0\n",
    "    while j<k:\n",
    "        print(\"*\",end=\" \")\n",
    "        j = j+1\n",
    "    k=k-2\n",
    "    print(\" \")\n",
    "    i=i+1\n",
    "    print(end=\"  \"*i)\n"
   ]
  },
  {
   "cell_type": "code",
   "execution_count": 50,
   "id": "0f850092-51d8-4a05-8198-e94fdc0052ff",
   "metadata": {},
   "outputs": [
    {
     "name": "stdin",
     "output_type": "stream",
     "text": [
      "Enter the height of triangle 4\n"
     ]
    },
    {
     "name": "stdout",
     "output_type": "stream",
     "text": [
      "*  \n",
      "* *  \n",
      "* * *  \n",
      "* * * *  \n",
      "* * * * *  \n",
      "* * * *  \n",
      "* * *  \n",
      "* *  \n",
      "*  \n"
     ]
    }
   ],
   "source": [
    "#Second pattern of nested while loops\n",
    "#Solution for question-----6\n",
    "rows = int(input(\"Enter the height of triangle\"))\n",
    "i = 1\n",
    "\n",
    "while i<=rows:\n",
    "    j = 0\n",
    "    while j<i:\n",
    "        print(\"*\",end=\" \")\n",
    "        j = j+1\n",
    "    i=i+1\n",
    "    print(\" \")\n",
    "while i>=1:\n",
    "    j=0\n",
    "    j = 0\n",
    "    while j<i:\n",
    "        print(\"*\",end=\" \")\n",
    "        j = j+1\n",
    "    i=i-1\n",
    "    print(\" \")\n",
    "    "
   ]
  },
  {
   "cell_type": "code",
   "execution_count": 63,
   "id": "e35cd228-bdf8-4d71-9827-f9230e125e5e",
   "metadata": {},
   "outputs": [
    {
     "name": "stdin",
     "output_type": "stream",
     "text": [
      "Enter the number of rows:  5\n"
     ]
    },
    {
     "name": "stdout",
     "output_type": "stream",
     "text": [
      "          * \n",
      "        * * \n",
      "      * * * \n",
      "    * * * * \n",
      "  * * * * * \n"
     ]
    }
   ],
   "source": [
    "#Third pattern with nested while loops\n",
    "#Solution for question-----6\n",
    "n = int(input(\"Enter the number of rows: \"))\n",
    "i = 1\n",
    "\n",
    "while i <= n:\n",
    "    j = n\n",
    "    while j >= i:\n",
    "        print(' ', end=' ')\n",
    "        j -= 1\n",
    "    k = 1\n",
    "    while k <= i:\n",
    "        print('*', end=' ')\n",
    "        k += 1\n",
    "    print()\n",
    "    i += 1"
   ]
  },
  {
   "cell_type": "code",
   "execution_count": 64,
   "id": "63185902-dd36-443e-ba20-2583db0eccd8",
   "metadata": {},
   "outputs": [
    {
     "name": "stdout",
     "output_type": "stream",
     "text": [
      "10\n",
      "9\n",
      "8\n",
      "7\n",
      "6\n",
      "5\n",
      "4\n",
      "3\n",
      "2\n",
      "1\n"
     ]
    }
   ],
   "source": [
    "#Solution for question-----7\n",
    "i = 10\n",
    "while i>=1:\n",
    "    print(i)\n",
    "    i = i-1\n"
   ]
  },
  {
   "cell_type": "code",
   "execution_count": 65,
   "id": "8e1182b2-3581-470a-8ccf-f281b77d7b46",
   "metadata": {},
   "outputs": [
    {
     "name": "stdout",
     "output_type": "stream",
     "text": [
      "10\n",
      "9\n",
      "8\n",
      "7\n",
      "6\n",
      "5\n",
      "4\n",
      "3\n",
      "2\n",
      "1\n"
     ]
    }
   ],
   "source": [
    "#Solution for question-----8\n",
    "i = 10\n",
    "while i>=1:\n",
    "    print(i)\n",
    "    i = i-1"
   ]
  }
 ],
 "metadata": {
  "kernelspec": {
   "display_name": "Python 3 (ipykernel)",
   "language": "python",
   "name": "python3"
  },
  "language_info": {
   "codemirror_mode": {
    "name": "ipython",
    "version": 3
   },
   "file_extension": ".py",
   "mimetype": "text/x-python",
   "name": "python",
   "nbconvert_exporter": "python",
   "pygments_lexer": "ipython3",
   "version": "3.10.8"
  }
 },
 "nbformat": 4,
 "nbformat_minor": 5
}
